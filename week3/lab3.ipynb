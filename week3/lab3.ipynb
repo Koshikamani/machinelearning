{
 "cells": [
  {
   "cell_type": "code",
   "execution_count": 1,
   "id": "4145f915-a5ec-41fa-940c-1d56487bff03",
   "metadata": {},
   "outputs": [
    {
     "name": "stdout",
     "output_type": "stream",
     "text": [
      "      TV  Sales\n",
      "0  230.1   22.1\n",
      "1   44.5   10.4\n",
      "2   17.2    9.3\n",
      "3  151.5   18.5\n",
      "4  180.8   12.9\n"
     ]
    }
   ],
   "source": [
    "import pandas as pd\n",
    "df=pd.read_csv('tvmarketing.csv')\n",
    "print(df.head(5))"
   ]
  },
  {
   "cell_type": "code",
   "execution_count": 9,
   "id": "af53c428-d4a3-4c30-b761-d5a5a7f49aa2",
   "metadata": {},
   "outputs": [
    {
     "name": "stdout",
     "output_type": "stream",
     "text": [
      "TV       float64\n",
      "Sales    float64\n",
      "dtype: object\n"
     ]
    }
   ],
   "source": [
    "print(df.dtypes)"
   ]
  },
  {
   "cell_type": "code",
   "execution_count": 13,
   "id": "a6c53170-fe1e-491f-95bd-4396016f5874",
   "metadata": {},
   "outputs": [
    {
     "name": "stdout",
     "output_type": "stream",
     "text": [
      "(200, 2)\n"
     ]
    }
   ],
   "source": [
    "h=df.shape\n",
    "print(h)\n"
   ]
  },
  {
   "cell_type": "code",
   "execution_count": 14,
   "id": "29eb1472-3eaf-4216-9a68-e48bf7377aa1",
   "metadata": {},
   "outputs": [
    {
     "name": "stdout",
     "output_type": "stream",
     "text": [
      "               TV       Sales\n",
      "count  200.000000  200.000000\n",
      "mean   147.042500   14.022500\n",
      "std     85.854236    5.217457\n",
      "min      0.700000    1.600000\n",
      "25%     74.375000   10.375000\n",
      "50%    149.750000   12.900000\n",
      "75%    218.825000   17.400000\n",
      "max    296.400000   27.000000\n"
     ]
    }
   ],
   "source": [
    "print(df.describe())"
   ]
  },
  {
   "cell_type": "code",
   "execution_count": 27,
   "id": "bf64b91a-cf76-44e7-9525-a6832d443a1b",
   "metadata": {},
   "outputs": [
    {
     "data": {
      "image/png": "[encoded data removed]",
      "text/plain": [
       "<Figure size 500x400 with 1 Axes>"
      ]
     },
     "metadata": {},
     "output_type": "display_data"
    }
   ],
   "source": [
    "from matplotlib import pyplot as plt\n",
    "import seaborn as s\n",
    "plt.figure(figsize=(5,4))\n",
    "s.scatterplot(x=df['TV'],y=df['Sales'],color='orange')\n",
    "plt.show()\n"
   ]
  },
  {
   "cell_type": "code",
   "execution_count": 31,
   "id": "200fcbfa-c7f7-4ab4-a242-ebfb45ff864d",
   "metadata": {},
   "outputs": [
    {
     "name": "stdout",
     "output_type": "stream",
     "text": [
      "        TV\n",
      "0    230.1\n",
      "1     44.5\n",
      "2     17.2\n",
      "3    151.5\n",
      "4    180.8\n",
      "..     ...\n",
      "195   38.2\n",
      "196   94.2\n",
      "197  177.0\n",
      "198  283.6\n",
      "199  232.1\n",
      "\n",
      "[200 rows x 1 columns] 0      22.1\n",
      "1      10.4\n",
      "2       9.3\n",
      "3      18.5\n",
      "4      12.9\n",
      "       ... \n",
      "195     7.6\n",
      "196     9.7\n",
      "197    12.8\n",
      "198    25.5\n",
      "199    13.4\n",
      "Name: Sales, Length: 200, dtype: float64\n"
     ]
    }
   ],
   "source": [
    "x=df[['TV']]\n",
    "y=df['Sales']\n",
    "#print(x.head())\n",
    "#print(y.head())\n",
    "print(x,y)"
   ]
  },
  {
   "cell_type": "code",
   "execution_count": 40,
   "id": "dd642018-e803-4918-9282-48e22742462d",
   "metadata": {},
   "outputs": [
    {
     "name": "stdout",
     "output_type": "stream",
     "text": [
      "        TV\n",
      "72    26.8\n",
      "193  166.8\n",
      "126    7.8\n",
      "150  280.7\n",
      "36   266.9\n",
      "..     ...\n",
      "15   195.4\n",
      "135   48.3\n",
      "138   43.0\n",
      "50   199.8\n",
      "196   94.2\n",
      "\n",
      "[140 rows x 1 columns]\n",
      "        TV\n",
      "189   18.7\n",
      "187  191.1\n",
      "29    70.6\n",
      "182   56.2\n",
      "90   134.3\n",
      "61   261.3\n",
      "37    74.7\n",
      "43   206.9\n",
      "73   129.4\n",
      "144   96.2\n",
      "185  205.0\n",
      "169  284.3\n",
      "51   100.4\n",
      "54   262.7\n",
      "75    16.9\n",
      "107   90.4\n",
      "0    230.1\n",
      "33   265.6\n",
      "183  287.6\n",
      "4    180.8\n",
      "94   107.4\n",
      "175  276.9\n",
      "108   13.1\n",
      "198  283.6\n",
      "152  197.6\n",
      "115   75.1\n",
      "143  104.6\n",
      "103  187.9\n",
      "86    76.3\n",
      "123  123.1\n",
      "96   197.6\n",
      "56     7.3\n",
      "154  187.8\n",
      "167  206.8\n",
      "197  177.0\n",
      "89   109.8\n",
      "31   112.9\n",
      "45   175.1\n",
      "57   136.2\n",
      "41   177.0\n",
      "34    95.7\n",
      "68   237.4\n",
      "127   80.2\n",
      "119   19.4\n",
      "69   216.8\n",
      "177  170.2\n",
      "10    66.1\n",
      "191   75.5\n",
      "102  280.2\n",
      "74   213.4\n",
      "112  175.7\n",
      "125   87.2\n",
      "24    62.3\n",
      "99   135.2\n",
      "170   50.0\n",
      "16    67.8\n",
      "65    69.0\n",
      "148   38.0\n",
      "159  131.7\n",
      "111  241.7\n",
      "72      8.8\n",
      "193    19.6\n",
      "126     6.6\n",
      "150    16.1\n",
      "36     25.4\n",
      "       ... \n",
      "15     22.4\n",
      "135    11.6\n",
      "138     9.6\n",
      "50     11.4\n",
      "196     9.7\n",
      "Name: Sales, Length: 140, dtype: float64\n",
      "189     6.7\n",
      "187    17.3\n",
      "29     10.5\n",
      "182     8.7\n",
      "90     11.2\n",
      "61     24.2\n",
      "37     14.7\n",
      "43     12.9\n",
      "73     11.0\n",
      "144    11.4\n",
      "185    22.6\n",
      "169    15.0\n",
      "51     10.7\n",
      "54     20.2\n",
      "75      8.7\n",
      "107     8.7\n",
      "0      22.1\n",
      "33     17.4\n",
      "183    26.2\n",
      "4      12.9\n",
      "94     11.5\n",
      "175    27.0\n",
      "108     5.3\n",
      "198    25.5\n",
      "152    16.6\n",
      "115    12.6\n",
      "143    10.4\n",
      "103    14.7\n",
      "86     12.0\n",
      "123    15.2\n",
      "96     11.7\n",
      "56      5.5\n",
      "154    15.6\n",
      "167    12.2\n",
      "197    12.8\n",
      "89     16.7\n",
      "31     11.9\n",
      "45     14.9\n",
      "57     13.2\n",
      "41     17.1\n",
      "34      9.5\n",
      "68     18.9\n",
      "127     8.8\n",
      "119     6.6\n",
      "69     22.3\n",
      "177    11.7\n",
      "10      8.6\n",
      "191     9.9\n",
      "102    14.8\n",
      "74     17.0\n",
      "112    14.1\n",
      "125    10.6\n",
      "24      9.7\n",
      "99     17.2\n",
      "170     8.4\n",
      "16     12.5\n",
      "65      9.3\n",
      "148    10.9\n",
      "159    12.9\n",
      "111    21.8\n",
      "Name: Sales, dtype: float64\n"
     ]
    }
   ],
   "source": [
    "from sklearn.model_selection import train_test_split\n",
    "x_train,x_test,y_train,y_test=train_test_split(x,y,train_size=0.7)#we can also use test size ie test =0.3 train 0.7\n",
    "print(x_train)\n",
    "print(x_test)\n",
    "print(y_train)\n",
    "print(y_test)"
   ]
  },
  {
   "cell_type": "code",
   "execution_count": 41,
   "id": "669fde7a-a489-4057-b33c-632562e776c8",
   "metadata": {},
   "outputs": [
    {
     "name": "stdout",
     "output_type": "stream",
     "text": [
      "(140, 1)\n",
      "(60, 1)\n",
      "(140,)\n",
      "(60,)\n"
     ]
    }
   ],
   "source": [
    "print(x_train.shape)\n",
    "print(x_test.shape)\n",
    "print(y_train.shape)\n",
    "print(y_test.shape)"
   ]
  },
  {
   "cell_type": "code",
   "execution_count": 55,
   "id": "2af3d6bf-fc51-4f6a-b307-9ff5fce4bb7f",
   "metadata": {},
   "outputs": [
    {
     "name": "stdout",
     "output_type": "stream",
     "text": [
      "slope: 0.04541849059234767\n",
      "intercept: 7.348960283692419\n"
     ]
    }
   ],
   "source": [
    "import numpy as np\n",
    "xtrainnp=x_train.values.flatten()\n",
    "ytrainnp=y_train.values\n",
    "x_mean=np.mean(xtrainnp)\n",
    "y_mean=np.mean(ytrainnp)\n",
    "numerator=np.sum((xtrainnp-x_mean)*(ytrainnp-y_mean))\n",
    "denominator=np.sum((xtrainnp-x_mean)**2)\n",
    "b1=numerator/denominator\n",
    "bo=y_mean-b1*x_mean\n",
    "print(\"slope:\",b1)\n",
    "print(\"intercept:\",bo)\n"
   ]
  },
  {
   "cell_type": "code",
   "execution_count": 65,
   "id": "ffec62b7-0a8d-40db-ac6c-c56b7d5479b5",
   "metadata": {},
   "outputs": [
    {
     "name": "stdout",
     "output_type": "stream",
     "text": [
      "[ 8.19828606 16.02843384 10.55550572  9.90147945 13.44866357]\n"
     ]
    }
   ],
   "source": [
    "x_testnp=x_test.values.flatten()\n",
    "y_pred=bo+b1*x_testnp\n",
    "print(y_pred[:5])"
   ]
  },
  {
   "cell_type": "code",
   "execution_count": 75,
   "id": "07257c3b-0653-4ef1-8ed8-0d6d338295a9",
   "metadata": {},
   "outputs": [
    {
     "name": "stdout",
     "output_type": "stream",
     "text": [
      "Predicted Price for the tv [265.6]: $19.41\n"
     ]
    },
    {
     "name": "stderr",
     "output_type": "stream",
     "text": [
      "/home/user/jupyter_env/lib/python3.12/site-packages/sklearn/utils/validation.py:2739: UserWarning: X does not have valid feature names, but LinearRegression was fitted with feature names\n",
      "  warnings.warn(\n"
     ]
    }
   ],
   "source": [
    "import numpy as np\n",
    "import pandas as pd\n",
    "from sklearn.linear_model import LinearRegression\n",
    "reg=LinearRegression()\n",
    "reg.fit(x_train,y_train)\n",
    "intercept=reg.intercept_\n",
    "coeff=reg.coef_\n",
    "#print(intercept,coeff)\n",
    "new_tv = np.array([[265.6]])\n",
    "predicted_price = reg.predict(new_tv)\n",
    "print(f\"Predicted Price for the tv {new_tv[0]}: ${predicted_price[0]:.2f}\")"
   ]
  },
  {
   "cell_type": "code",
   "execution_count": 70,
   "id": "89db7208-7e4f-4c32-900d-5d078ccb09ec",
   "metadata": {},
   "outputs": [
    {
     "name": "stdout",
     "output_type": "stream",
     "text": [
      "7.348960283692419 [0.04541849]\n"
     ]
    }
   ],
   "source": [
    "print(intercept,coeff)"
   ]
  },
  {
   "cell_type": "code",
   "execution_count": 94,
   "id": "92fe089b-5de1-4f6d-8395-255b2c91d89a",
   "metadata": {},
   "outputs": [
    {
     "data": {
      "image/png": "[encoded data removed]",
      "text/plain": [
       "<Figure size 400x300 with 1 Axes>"
      ]
     },
     "metadata": {},
     "output_type": "display_data"
    }
   ],
   "source": [
    "import matplotlib.pyplot as plt\n",
    "import seaborn as sns\n",
    "plt.figure(figsize=(4,3))\n",
    "sns.scatterplot(x=x_train[\"TV\"], y=y_train, label=\"Training Data\", color=\"green\")\n",
    "xval=np.linspace(x_train.min(),x_train.max(),100)\n",
    "yval=bo+b1*xval\n",
    "plt.plot(xval,yval,color='red')\n",
    "plt.show()\n"
   ]
  },
  {
   "cell_type": "code",
   "execution_count": 106,
   "id": "3776d7c3-4240-46ac-95cb-83bbe61c1497",
   "metadata": {},
   "outputs": [
    {
     "data": {
      "image/png": "[encoded data removed]",
      "text/plain": [
       "<Figure size 400x300 with 1 Axes>"
      ]
     },
     "metadata": {},
     "output_type": "display_data"
    }
   ],
   "source": [
    "import matplotlib.pyplot as plt\n",
    "import seaborn as sns\n",
    "plt.figure(figsize=(4,3))\n",
    "sns.scatterplot(x=x_test['TV'],y=y_test,label=\"training data\",color='orange')\n",
    "xval=np.linspace(x_test.min(),x_test.max(),200)\n",
    "yval=bo+b1*xval\n",
    "plt.plot(xval,yval)\n",
    "plt.show()"
   ]
  },
  {
   "cell_type": "code",
   "execution_count": null,
   "id": "6ad0d963-72c5-4122-a7a4-8742e7636bd7",
   "metadata": {},
   "outputs": [],
   "source": []
  }
 ],
 "metadata": {
  "kernelspec": {
   "display_name": "Python 3 (ipykernel)",
   "language": "python",
   "name": "python3"
  },
  "language_info": {
   "codemirror_mode": {
    "name": "ipython",
    "version": 3
   },
   "file_extension": ".py",
   "mimetype": "text/x-python",
   "name": "python",
   "nbconvert_exporter": "python",
   "pygments_lexer": "ipython3",
   "version": "3.12.3"
  }
 },
 "nbformat": 4,
 "nbformat_minor": 5
}
